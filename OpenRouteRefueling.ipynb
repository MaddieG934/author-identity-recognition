{
 "cells": [
  {
   "cell_type": "code",
   "execution_count": 1,
   "id": "859e77a6",
   "metadata": {},
   "outputs": [],
   "source": [
    "import networkx as nx\n",
    "import numpy as np\n",
    "import matplotlib.pyplot as plt\n",
    "import pandas as pd\n",
    "import random as rd\n",
    "import timeit as tm"
   ]
  },
  {
   "cell_type": "code",
   "execution_count": 2,
   "id": "53967f92",
   "metadata": {},
   "outputs": [],
   "source": [
    "tankCapacity = 20\n",
    "milesPerGallon = 20\n",
    "\n",
    "tankLevel = tankCapacity\n",
    "maxReachableDistance = tankCapacity * milesPerGallon\n",
    "\n",
    "start = 1\n",
    "end = 20\n",
    "\n",
    "minPrice = 1.5\n",
    "maxPrice = 5.0\n",
    "\n",
    "minReachableStations = 1\n",
    "maxReachableStations = 5\n",
    "\n",
    "minDistance = 5\n",
    "maxDistance = 100"
   ]
  },
  {
   "cell_type": "markdown",
   "id": "8aa2bd7b",
   "metadata": {},
   "source": [
    "<h2>Create stations with prices between minPrice and maxPrice, connected by distances between 5 and maxDistance miles</h2>"
   ]
  },
  {
   "cell_type": "code",
   "execution_count": 3,
   "id": "6e34df1b",
   "metadata": {},
   "outputs": [],
   "source": [
    "def generateRandomOpenRouteGraph(trace = False):\n",
    "    G = nx.DiGraph()\n",
    "    G.add_node(start, price = 0)\n",
    "\n",
    "    # Add nodes with prices normally distributed with mean $4.75 and standard deviation of $0.20\n",
    "    prices = np.random.normal(4.75, 0.20, 19)\n",
    "    for i in range(start + 1, end + 1):\n",
    "        G.add_node(i, price=prices[i - 2])\n",
    "    \n",
    "    for currStation in range(start, end):\n",
    "        numReachableStations = rd.randint(minReachableStations, maxReachableStations)\n",
    "        if (trace):\n",
    "            print('Station',currStation,'is connected to',numReachableStations,'stations')\n",
    "    \n",
    "        # Reset minDistance and maxDistance for every currStation\n",
    "        minDistance = 5\n",
    "        maxDistance = 100\n",
    "    \n",
    "        # Get a random distance from currStation to the next 1-5 stations\n",
    "        for i in range(1, numReachableStations + 1):\n",
    "            if (trace):\n",
    "                print('Current edge: (',currStation,',',(currStation + i),')')\n",
    "            if (currStation + i) <= end:\n",
    "                # Distance from k to (k + i) must be greater than from k to (k + i - 1) for all stations k\n",
    "                if G.has_edge(currStation, currStation + i - 1):\n",
    "                    if (trace):\n",
    "                        print('Distance from station',currStation,'to',currStation + i,'must be greater than from station', currStation,'to',currStation + i - 1)\n",
    "                    newMinDistance = G[currStation][currStation + i - 1]['distance'] + 1\n",
    "                    maxDistance = min(maxReachableDistance, maxDistance + (newMinDistance - minDistance))\n",
    "                    minDistance = newMinDistance\n",
    "\n",
    "                # Distance from k to (k + i) must be less than [(k - 1) to k] + [(k - 1) to (k + i)] for all stations k\n",
    "                if G.has_edge(currStation - 1, currStation) and G.has_edge(currStation - 1, currStation + i):\n",
    "                    if (trace):\n",
    "                        print('Distance from stations',currStation,'to',currStation + i,'must be less than ( station',currStation - 1,'to',currStation,') + ( station',currStation - 1,'to',currStation + i,')')\n",
    "                    maxDistance = min(maxDistance, maxReachableDistance, G[currStation - 1][currStation]['distance'] + G[currStation - 1][currStation + i]['distance'] - 1)\n",
    "                \n",
    "                # If minDistance meets or exceeds the ceiling of maxDistance...\n",
    "                if (minDistance >= maxDistance):\n",
    "                    if (i > 1): # As long as the current station is connected to at least one station, the graph is still valid\n",
    "                        break\n",
    "                    else:\n",
    "                        return -1 # Else return err\n",
    "                \n",
    "                if (trace):\n",
    "                    print('minDistance =',minDistance)\n",
    "                    print('maxDistance =',maxDistance)\n",
    "\n",
    "                # Add corresponding edge to G, with distances to the stations\n",
    "                d = rd.randint(minDistance,maxDistance)\n",
    "                G.add_edge(currStation, currStation + i, distance=d)\n",
    "                if (trace):\n",
    "                    print('')\n",
    "            else:\n",
    "                if (trace):\n",
    "                    print('break')\n",
    "                    print('')\n",
    "                break # Stop if the last station is reached\n",
    "    \n",
    "    return G"
   ]
  },
  {
   "cell_type": "code",
   "execution_count": 4,
   "id": "f3926561",
   "metadata": {},
   "outputs": [
    {
     "name": "stdout",
     "output_type": "stream",
     "text": [
      "Station 1 is connected to 2 stations\n",
      "Current edge: ( 1 , 2 )\n",
      "minDistance = 5\n",
      "maxDistance = 100\n",
      "\n",
      "Current edge: ( 1 , 3 )\n",
      "Distance from station 1 to 3 must be greater than from station 1 to 2\n",
      "minDistance = 94\n",
      "maxDistance = 189\n",
      "\n",
      "Station 2 is connected to 5 stations\n",
      "Current edge: ( 2 , 3 )\n",
      "Distance from stations 2 to 3 must be less than ( station 1 to 2 ) + ( station 1 to 3 )\n",
      "minDistance = 5\n",
      "maxDistance = 100\n",
      "\n",
      "Current edge: ( 2 , 4 )\n",
      "Distance from station 2 to 4 must be greater than from station 2 to 3\n",
      "minDistance = 85\n",
      "maxDistance = 180\n",
      "\n",
      "Current edge: ( 2 , 5 )\n",
      "Distance from station 2 to 5 must be greater than from station 2 to 4\n",
      "minDistance = 148\n",
      "maxDistance = 243\n",
      "\n",
      "Current edge: ( 2 , 6 )\n",
      "Distance from station 2 to 6 must be greater than from station 2 to 5\n",
      "minDistance = 235\n",
      "maxDistance = 330\n",
      "\n",
      "Current edge: ( 2 , 7 )\n",
      "Distance from station 2 to 7 must be greater than from station 2 to 6\n",
      "minDistance = 319\n",
      "maxDistance = 400\n",
      "\n",
      "Station 3 is connected to 4 stations\n",
      "Current edge: ( 3 , 4 )\n",
      "Distance from stations 3 to 4 must be less than ( station 2 to 3 ) + ( station 2 to 4 )\n",
      "minDistance = 5\n",
      "maxDistance = 100\n",
      "\n",
      "Current edge: ( 3 , 5 )\n",
      "Distance from station 3 to 5 must be greater than from station 3 to 4\n",
      "Distance from stations 3 to 5 must be less than ( station 2 to 3 ) + ( station 2 to 5 )\n",
      "minDistance = 37\n",
      "maxDistance = 132\n",
      "\n",
      "Current edge: ( 3 , 6 )\n",
      "Distance from station 3 to 6 must be greater than from station 3 to 5\n",
      "Distance from stations 3 to 6 must be less than ( station 2 to 3 ) + ( station 2 to 6 )\n",
      "minDistance = 118\n",
      "maxDistance = 213\n",
      "\n",
      "Current edge: ( 3 , 7 )\n",
      "Distance from station 3 to 7 must be greater than from station 3 to 6\n",
      "Distance from stations 3 to 7 must be less than ( station 2 to 3 ) + ( station 2 to 7 )\n",
      "minDistance = 149\n",
      "maxDistance = 244\n",
      "\n",
      "Station 4 is connected to 2 stations\n",
      "Current edge: ( 4 , 5 )\n",
      "Distance from stations 4 to 5 must be less than ( station 3 to 4 ) + ( station 3 to 5 )\n",
      "minDistance = 5\n",
      "maxDistance = 100\n",
      "\n",
      "Current edge: ( 4 , 6 )\n",
      "Distance from station 4 to 6 must be greater than from station 4 to 5\n",
      "Distance from stations 4 to 6 must be less than ( station 3 to 4 ) + ( station 3 to 6 )\n",
      "minDistance = 12\n",
      "maxDistance = 107\n",
      "\n",
      "Station 5 is connected to 4 stations\n",
      "Current edge: ( 5 , 6 )\n",
      "Distance from stations 5 to 6 must be less than ( station 4 to 5 ) + ( station 4 to 6 )\n",
      "minDistance = 5\n",
      "maxDistance = 95\n",
      "\n",
      "Current edge: ( 5 , 7 )\n",
      "Distance from station 5 to 7 must be greater than from station 5 to 6\n",
      "minDistance = 91\n",
      "maxDistance = 181\n",
      "\n",
      "Current edge: ( 5 , 8 )\n",
      "Distance from station 5 to 8 must be greater than from station 5 to 7\n",
      "minDistance = 98\n",
      "maxDistance = 188\n",
      "\n",
      "Current edge: ( 5 , 9 )\n",
      "Distance from station 5 to 9 must be greater than from station 5 to 8\n",
      "minDistance = 188\n",
      "maxDistance = 278\n",
      "\n",
      "Station 6 is connected to 1 stations\n",
      "Current edge: ( 6 , 7 )\n",
      "Distance from stations 6 to 7 must be less than ( station 5 to 6 ) + ( station 5 to 7 )\n",
      "minDistance = 5\n",
      "maxDistance = 100\n",
      "\n",
      "Station 7 is connected to 4 stations\n",
      "Current edge: ( 7 , 8 )\n",
      "minDistance = 5\n",
      "maxDistance = 100\n",
      "\n",
      "Current edge: ( 7 , 9 )\n",
      "Distance from station 7 to 9 must be greater than from station 7 to 8\n",
      "minDistance = 84\n",
      "maxDistance = 179\n",
      "\n",
      "Current edge: ( 7 , 10 )\n",
      "Distance from station 7 to 10 must be greater than from station 7 to 9\n",
      "minDistance = 141\n",
      "maxDistance = 236\n",
      "\n",
      "Current edge: ( 7 , 11 )\n",
      "Distance from station 7 to 11 must be greater than from station 7 to 10\n",
      "minDistance = 216\n",
      "maxDistance = 311\n",
      "\n",
      "Station 8 is connected to 4 stations\n",
      "Current edge: ( 8 , 9 )\n",
      "Distance from stations 8 to 9 must be less than ( station 7 to 8 ) + ( station 7 to 9 )\n",
      "minDistance = 5\n",
      "maxDistance = 100\n",
      "\n",
      "Current edge: ( 8 , 10 )\n",
      "Distance from station 8 to 10 must be greater than from station 8 to 9\n",
      "Distance from stations 8 to 10 must be less than ( station 7 to 8 ) + ( station 7 to 10 )\n",
      "minDistance = 85\n",
      "maxDistance = 180\n",
      "\n",
      "Current edge: ( 8 , 11 )\n",
      "Distance from station 8 to 11 must be greater than from station 8 to 10\n",
      "Distance from stations 8 to 11 must be less than ( station 7 to 8 ) + ( station 7 to 11 )\n",
      "minDistance = 115\n",
      "maxDistance = 210\n",
      "\n",
      "Current edge: ( 8 , 12 )\n",
      "Distance from station 8 to 12 must be greater than from station 8 to 11\n",
      "minDistance = 122\n",
      "maxDistance = 217\n",
      "\n",
      "Station 9 is connected to 2 stations\n",
      "Current edge: ( 9 , 10 )\n",
      "Distance from stations 9 to 10 must be less than ( station 8 to 9 ) + ( station 8 to 10 )\n",
      "minDistance = 5\n",
      "maxDistance = 100\n",
      "\n",
      "Current edge: ( 9 , 11 )\n",
      "Distance from station 9 to 11 must be greater than from station 9 to 10\n",
      "Distance from stations 9 to 11 must be less than ( station 8 to 9 ) + ( station 8 to 11 )\n",
      "minDistance = 65\n",
      "maxDistance = 160\n",
      "\n",
      "Station 10 is connected to 1 stations\n",
      "Current edge: ( 10 , 11 )\n",
      "Distance from stations 10 to 11 must be less than ( station 9 to 10 ) + ( station 9 to 11 )\n",
      "minDistance = 5\n",
      "maxDistance = 100\n",
      "\n",
      "Station 11 is connected to 1 stations\n",
      "Current edge: ( 11 , 12 )\n",
      "minDistance = 5\n",
      "maxDistance = 100\n",
      "\n",
      "Station 12 is connected to 4 stations\n",
      "Current edge: ( 12 , 13 )\n",
      "minDistance = 5\n",
      "maxDistance = 100\n",
      "\n",
      "Current edge: ( 12 , 14 )\n",
      "Distance from station 12 to 14 must be greater than from station 12 to 13\n",
      "minDistance = 12\n",
      "maxDistance = 107\n",
      "\n",
      "Current edge: ( 12 , 15 )\n",
      "Distance from station 12 to 15 must be greater than from station 12 to 14\n",
      "minDistance = 79\n",
      "maxDistance = 174\n",
      "\n",
      "Current edge: ( 12 , 16 )\n",
      "Distance from station 12 to 16 must be greater than from station 12 to 15\n",
      "minDistance = 130\n",
      "maxDistance = 225\n",
      "\n",
      "Station 13 is connected to 3 stations\n",
      "Current edge: ( 13 , 14 )\n",
      "Distance from stations 13 to 14 must be less than ( station 12 to 13 ) + ( station 12 to 14 )\n",
      "minDistance = 5\n",
      "maxDistance = 88\n",
      "\n",
      "Current edge: ( 13 , 15 )\n",
      "Distance from station 13 to 15 must be greater than from station 13 to 14\n",
      "Distance from stations 13 to 15 must be less than ( station 12 to 13 ) + ( station 12 to 15 )\n",
      "minDistance = 55\n",
      "maxDistance = 138\n",
      "\n",
      "Current edge: ( 13 , 16 )\n",
      "Distance from station 13 to 16 must be greater than from station 13 to 15\n",
      "Distance from stations 13 to 16 must be less than ( station 12 to 13 ) + ( station 12 to 16 )\n",
      "minDistance = 62\n",
      "maxDistance = 145\n",
      "\n",
      "Station 14 is connected to 1 stations\n",
      "Current edge: ( 14 , 15 )\n",
      "Distance from stations 14 to 15 must be less than ( station 13 to 14 ) + ( station 13 to 15 )\n",
      "minDistance = 5\n",
      "maxDistance = 100\n",
      "\n",
      "Station 15 is connected to 1 stations\n",
      "Current edge: ( 15 , 16 )\n",
      "minDistance = 5\n",
      "maxDistance = 100\n",
      "\n",
      "Station 16 is connected to 3 stations\n",
      "Current edge: ( 16 , 17 )\n",
      "minDistance = 5\n",
      "maxDistance = 100\n",
      "\n",
      "Current edge: ( 16 , 18 )\n",
      "Distance from station 16 to 18 must be greater than from station 16 to 17\n",
      "minDistance = 53\n",
      "maxDistance = 148\n",
      "\n",
      "Current edge: ( 16 , 19 )\n",
      "Distance from station 16 to 19 must be greater than from station 16 to 18\n",
      "minDistance = 108\n",
      "maxDistance = 203\n",
      "\n",
      "Station 17 is connected to 3 stations\n",
      "Current edge: ( 17 , 18 )\n",
      "Distance from stations 17 to 18 must be less than ( station 16 to 17 ) + ( station 16 to 18 )\n",
      "minDistance = 5\n",
      "maxDistance = 100\n",
      "\n",
      "Current edge: ( 17 , 19 )\n",
      "Distance from station 17 to 19 must be greater than from station 17 to 18\n",
      "Distance from stations 17 to 19 must be less than ( station 16 to 17 ) + ( station 16 to 19 )\n",
      "minDistance = 26\n",
      "maxDistance = 121\n",
      "\n",
      "Current edge: ( 17 , 20 )\n",
      "Distance from station 17 to 20 must be greater than from station 17 to 19\n",
      "minDistance = 106\n",
      "maxDistance = 201\n",
      "\n",
      "Station 18 is connected to 4 stations\n",
      "Current edge: ( 18 , 19 )\n",
      "Distance from stations 18 to 19 must be less than ( station 17 to 18 ) + ( station 17 to 19 )\n",
      "minDistance = 5\n",
      "maxDistance = 100\n",
      "\n",
      "Current edge: ( 18 , 20 )\n",
      "Distance from station 18 to 20 must be greater than from station 18 to 19\n",
      "Distance from stations 18 to 20 must be less than ( station 17 to 18 ) + ( station 17 to 20 )\n",
      "minDistance = 20\n",
      "maxDistance = 115\n",
      "\n",
      "Current edge: ( 18 , 21 )\n",
      "break\n",
      "\n",
      "Station 19 is connected to 1 stations\n",
      "Current edge: ( 19 , 20 )\n",
      "Distance from stations 19 to 20 must be less than ( station 18 to 19 ) + ( station 18 to 20 )\n",
      "minDistance = 5\n",
      "maxDistance = 93\n",
      "\n"
     ]
    }
   ],
   "source": [
    "Stations = generateRandomOpenRouteGraph(True)"
   ]
  },
  {
   "cell_type": "code",
   "execution_count": 5,
   "id": "39bebdcd",
   "metadata": {},
   "outputs": [
    {
     "data": {
      "text/plain": [
       "NodeDataView({1: {'price': 0}, 2: {'price': 4.511544517897631}, 3: {'price': 5.012874005718568}, 4: {'price': 4.9187027118284155}, 5: {'price': 4.969589468616692}, 6: {'price': 4.932024543609508}, 7: {'price': 4.712750783169803}, 8: {'price': 4.963622247271697}, 9: {'price': 4.762025291146745}, 10: {'price': 4.799497719002466}, 11: {'price': 5.08737327718581}, 12: {'price': 4.801533403555902}, 13: {'price': 4.84997295603812}, 14: {'price': 4.7055844983957495}, 15: {'price': 4.749203531933545}, 16: {'price': 4.623073717284326}, 17: {'price': 4.548785494039404}, 18: {'price': 4.949674131119877}, 19: {'price': 4.708742136002485}, 20: {'price': 4.8945977084353665}})"
      ]
     },
     "execution_count": 5,
     "metadata": {},
     "output_type": "execute_result"
    }
   ],
   "source": [
    "Stations.nodes.data()"
   ]
  },
  {
   "cell_type": "code",
   "execution_count": 6,
   "id": "27809a4a",
   "metadata": {},
   "outputs": [
    {
     "data": {
      "text/plain": [
       "OutEdgeView([(1, 2), (1, 3), (2, 3), (2, 4), (2, 5), (2, 6), (2, 7), (3, 4), (3, 5), (3, 6), (3, 7), (4, 5), (4, 6), (5, 6), (5, 7), (5, 8), (5, 9), (6, 7), (7, 8), (7, 9), (7, 10), (7, 11), (8, 9), (8, 10), (8, 11), (8, 12), (9, 10), (9, 11), (10, 11), (11, 12), (12, 13), (12, 14), (12, 15), (12, 16), (13, 14), (13, 15), (13, 16), (14, 15), (15, 16), (16, 17), (16, 18), (16, 19), (17, 18), (17, 19), (17, 20), (18, 19), (18, 20), (19, 20)])"
      ]
     },
     "execution_count": 6,
     "metadata": {},
     "output_type": "execute_result"
    }
   ],
   "source": [
    "Stations.edges()"
   ]
  },
  {
   "cell_type": "code",
   "execution_count": 7,
   "id": "eb738bd8",
   "metadata": {},
   "outputs": [
    {
     "data": {
      "image/png": "[encoded data removed]",
      "text/plain": [
       "<Figure size 432x288 with 1 Axes>"
      ]
     },
     "metadata": {},
     "output_type": "display_data"
    }
   ],
   "source": [
    "nx.draw(Stations, with_labels=True)"
   ]
  },
  {
   "cell_type": "code",
   "execution_count": 8,
   "id": "6631b418",
   "metadata": {},
   "outputs": [
    {
     "data": {
      "text/plain": [
       "OutEdgeDataView([(1, 2, {'distance': 93}), (1, 3, {'distance': 123}), (2, 3, {'distance': 84}), (2, 4, {'distance': 147}), (2, 5, {'distance': 234}), (2, 6, {'distance': 318}), (2, 7, {'distance': 354}), (3, 4, {'distance': 36}), (3, 5, {'distance': 117}), (3, 6, {'distance': 148}), (3, 7, {'distance': 202}), (4, 5, {'distance': 11}), (4, 6, {'distance': 85}), (5, 6, {'distance': 90}), (5, 7, {'distance': 97}), (5, 8, {'distance': 187}), (5, 9, {'distance': 248}), (6, 7, {'distance': 81}), (7, 8, {'distance': 83}), (7, 9, {'distance': 140}), (7, 10, {'distance': 215}), (7, 11, {'distance': 244}), (8, 9, {'distance': 84}), (8, 10, {'distance': 114}), (8, 11, {'distance': 121}), (8, 12, {'distance': 178}), (9, 10, {'distance': 64}), (9, 11, {'distance': 132}), (10, 11, {'distance': 94}), (11, 12, {'distance': 95}), (12, 13, {'distance': 11}), (12, 14, {'distance': 78}), (12, 15, {'distance': 129}), (12, 16, {'distance': 196}), (13, 14, {'distance': 54}), (13, 15, {'distance': 61}), (13, 16, {'distance': 100}), (14, 15, {'distance': 75}), (15, 16, {'distance': 47}), (16, 17, {'distance': 52}), (16, 18, {'distance': 107}), (16, 19, {'distance': 199}), (17, 18, {'distance': 25}), (17, 19, {'distance': 105}), (17, 20, {'distance': 142}), (18, 19, {'distance': 19}), (18, 20, {'distance': 75}), (19, 20, {'distance': 54})])"
      ]
     },
     "execution_count": 8,
     "metadata": {},
     "output_type": "execute_result"
    }
   ],
   "source": [
    "Stations.edges.data()"
   ]
  },
  {
   "cell_type": "code",
   "execution_count": 9,
   "id": "78d444fc",
   "metadata": {},
   "outputs": [
    {
     "data": {
      "text/plain": [
       "48"
      ]
     },
     "execution_count": 9,
     "metadata": {},
     "output_type": "execute_result"
    }
   ],
   "source": [
    "Stations.number_of_edges()"
   ]
  },
  {
   "cell_type": "markdown",
   "id": "9ab741de",
   "metadata": {},
   "source": [
    "<h2>Agacency matrix for G</h2>"
   ]
  },
  {
   "cell_type": "code",
   "execution_count": 10,
   "id": "cf895ca9",
   "metadata": {},
   "outputs": [],
   "source": [
    "def getAdjacencyMatrix(Route, trace = False):\n",
    "    M = []\n",
    "    for i in range(start, end + 1):\n",
    "        row = []\n",
    "        # Initialize the adjacency matrix by assuming the shortest path between two stations is the length of the edge\n",
    "        #  between them, and that no path exists if there is no edge directly connecting them\n",
    "        for j in range(start, end + 1):\n",
    "            if j == i:\n",
    "                row.append(0)\n",
    "            elif j <= i or not Route.has_edge(i,j):\n",
    "                row.append(np.inf)\n",
    "            else:\n",
    "                row.append(Route[i][j]['distance'])\n",
    "        M.append(row)\n",
    "        if (trace):\n",
    "            print(i,'\\t:',row)\n",
    "    return M"
   ]
  },
  {
   "cell_type": "code",
   "execution_count": 11,
   "id": "e3b7fa95",
   "metadata": {},
   "outputs": [
    {
     "name": "stdout",
     "output_type": "stream",
     "text": [
      "1 \t: [0, 93, 123, inf, inf, inf, inf, inf, inf, inf, inf, inf, inf, inf, inf, inf, inf, inf, inf, inf]\n",
      "2 \t: [inf, 0, 84, 147, 234, 318, 354, inf, inf, inf, inf, inf, inf, inf, inf, inf, inf, inf, inf, inf]\n",
      "3 \t: [inf, inf, 0, 36, 117, 148, 202, inf, inf, inf, inf, inf, inf, inf, inf, inf, inf, inf, inf, inf]\n",
      "4 \t: [inf, inf, inf, 0, 11, 85, inf, inf, inf, inf, inf, inf, inf, inf, inf, inf, inf, inf, inf, inf]\n",
      "5 \t: [inf, inf, inf, inf, 0, 90, 97, 187, 248, inf, inf, inf, inf, inf, inf, inf, inf, inf, inf, inf]\n",
      "6 \t: [inf, inf, inf, inf, inf, 0, 81, inf, inf, inf, inf, inf, inf, inf, inf, inf, inf, inf, inf, inf]\n",
      "7 \t: [inf, inf, inf, inf, inf, inf, 0, 83, 140, 215, 244, inf, inf, inf, inf, inf, inf, inf, inf, inf]\n",
      "8 \t: [inf, inf, inf, inf, inf, inf, inf, 0, 84, 114, 121, 178, inf, inf, inf, inf, inf, inf, inf, inf]\n",
      "9 \t: [inf, inf, inf, inf, inf, inf, inf, inf, 0, 64, 132, inf, inf, inf, inf, inf, inf, inf, inf, inf]\n",
      "10 \t: [inf, inf, inf, inf, inf, inf, inf, inf, inf, 0, 94, inf, inf, inf, inf, inf, inf, inf, inf, inf]\n",
      "11 \t: [inf, inf, inf, inf, inf, inf, inf, inf, inf, inf, 0, 95, inf, inf, inf, inf, inf, inf, inf, inf]\n",
      "12 \t: [inf, inf, inf, inf, inf, inf, inf, inf, inf, inf, inf, 0, 11, 78, 129, 196, inf, inf, inf, inf]\n",
      "13 \t: [inf, inf, inf, inf, inf, inf, inf, inf, inf, inf, inf, inf, 0, 54, 61, 100, inf, inf, inf, inf]\n",
      "14 \t: [inf, inf, inf, inf, inf, inf, inf, inf, inf, inf, inf, inf, inf, 0, 75, inf, inf, inf, inf, inf]\n",
      "15 \t: [inf, inf, inf, inf, inf, inf, inf, inf, inf, inf, inf, inf, inf, inf, 0, 47, inf, inf, inf, inf]\n",
      "16 \t: [inf, inf, inf, inf, inf, inf, inf, inf, inf, inf, inf, inf, inf, inf, inf, 0, 52, 107, 199, inf]\n",
      "17 \t: [inf, inf, inf, inf, inf, inf, inf, inf, inf, inf, inf, inf, inf, inf, inf, inf, 0, 25, 105, 142]\n",
      "18 \t: [inf, inf, inf, inf, inf, inf, inf, inf, inf, inf, inf, inf, inf, inf, inf, inf, inf, 0, 19, 75]\n",
      "19 \t: [inf, inf, inf, inf, inf, inf, inf, inf, inf, inf, inf, inf, inf, inf, inf, inf, inf, inf, 0, 54]\n",
      "20 \t: [inf, inf, inf, inf, inf, inf, inf, inf, inf, inf, inf, inf, inf, inf, inf, inf, inf, inf, inf, 0]\n"
     ]
    }
   ],
   "source": [
    "routeAdjacencyMatrix = getAdjacencyMatrix(Stations, True)"
   ]
  },
  {
   "cell_type": "code",
   "execution_count": 12,
   "id": "37f01577",
   "metadata": {},
   "outputs": [],
   "source": [
    "def getShortestDistanceAndNextNodeMatrices(adjMatrix, nextNodeMatrix, trace = False):\n",
    "    S = []\n",
    "    for i in range(end):\n",
    "        sRow = []\n",
    "        nRow = []\n",
    "        \n",
    "        for j in range(end):\n",
    "            # Initialize the shortest distance matrix as a copy of the base adjacency matrix\n",
    "            sRow.append(adjMatrix[i][j])\n",
    "            \n",
    "            # Initialize the next node matrix by assuming that it is always best to go directly to the destination from \n",
    "            #  the starting station (as opposed to visiting a station between them), and that no path exists \n",
    "            #  between stations if there is no edge directly between them\n",
    "            if 0 < adjMatrix[i][j] < maxReachableDistance:\n",
    "                nRow.append(j+1)\n",
    "            else:\n",
    "                nRow.append(-1)\n",
    "        S.append(sRow)\n",
    "        nextNodeMatrix.append(nRow)\n",
    "    \n",
    "    # Iteratively improve the shortest distance and next node matrices by finding the station k that \n",
    "    #  lies between two stations i and j that minimizes the distance of the path from i to j\n",
    "    for k in range(end):\n",
    "        for l in range(end):\n",
    "            for m in range(end):\n",
    "                if (S[l][m] > S[l][k] + S[k][m]):\n",
    "                    S[l][m] = S[l][k] + S[k][m]\n",
    "                    nextNodeMatrix[l][m] = nextNodeMatrix[l][k]\n",
    "    \n",
    "    if (trace):\n",
    "        for s in range(end):\n",
    "            print(s+1,'\\t:',S[s])\n",
    "    \n",
    "    return S"
   ]
  },
  {
   "cell_type": "code",
   "execution_count": 13,
   "id": "10f00f47",
   "metadata": {},
   "outputs": [
    {
     "name": "stdout",
     "output_type": "stream",
     "text": [
      "1 \t: [0, 93, 123, 159, 170, 244, 267, 350, 407, 464, 471, 528, 539, 593, 600, 639, 691, 716, 735, 789]\n",
      "2 \t: [inf, 0, 84, 120, 131, 205, 228, 311, 368, 425, 432, 489, 500, 554, 561, 600, 652, 677, 696, 750]\n",
      "3 \t: [inf, inf, 0, 36, 47, 121, 144, 227, 284, 341, 348, 405, 416, 470, 477, 516, 568, 593, 612, 666]\n",
      "4 \t: [inf, inf, inf, 0, 11, 85, 108, 191, 248, 305, 312, 369, 380, 434, 441, 480, 532, 557, 576, 630]\n",
      "5 \t: [inf, inf, inf, inf, 0, 90, 97, 180, 237, 294, 301, 358, 369, 423, 430, 469, 521, 546, 565, 619]\n",
      "6 \t: [inf, inf, inf, inf, inf, 0, 81, 164, 221, 278, 285, 342, 353, 407, 414, 453, 505, 530, 549, 603]\n",
      "7 \t: [inf, inf, inf, inf, inf, inf, 0, 83, 140, 197, 204, 261, 272, 326, 333, 372, 424, 449, 468, 522]\n",
      "8 \t: [inf, inf, inf, inf, inf, inf, inf, 0, 84, 114, 121, 178, 189, 243, 250, 289, 341, 366, 385, 439]\n",
      "9 \t: [inf, inf, inf, inf, inf, inf, inf, inf, 0, 64, 132, 227, 238, 292, 299, 338, 390, 415, 434, 488]\n",
      "10 \t: [inf, inf, inf, inf, inf, inf, inf, inf, inf, 0, 94, 189, 200, 254, 261, 300, 352, 377, 396, 450]\n",
      "11 \t: [inf, inf, inf, inf, inf, inf, inf, inf, inf, inf, 0, 95, 106, 160, 167, 206, 258, 283, 302, 356]\n",
      "12 \t: [inf, inf, inf, inf, inf, inf, inf, inf, inf, inf, inf, 0, 11, 65, 72, 111, 163, 188, 207, 261]\n",
      "13 \t: [inf, inf, inf, inf, inf, inf, inf, inf, inf, inf, inf, inf, 0, 54, 61, 100, 152, 177, 196, 250]\n",
      "14 \t: [inf, inf, inf, inf, inf, inf, inf, inf, inf, inf, inf, inf, inf, 0, 75, 122, 174, 199, 218, 272]\n",
      "15 \t: [inf, inf, inf, inf, inf, inf, inf, inf, inf, inf, inf, inf, inf, inf, 0, 47, 99, 124, 143, 197]\n",
      "16 \t: [inf, inf, inf, inf, inf, inf, inf, inf, inf, inf, inf, inf, inf, inf, inf, 0, 52, 77, 96, 150]\n",
      "17 \t: [inf, inf, inf, inf, inf, inf, inf, inf, inf, inf, inf, inf, inf, inf, inf, inf, 0, 25, 44, 98]\n",
      "18 \t: [inf, inf, inf, inf, inf, inf, inf, inf, inf, inf, inf, inf, inf, inf, inf, inf, inf, 0, 19, 73]\n",
      "19 \t: [inf, inf, inf, inf, inf, inf, inf, inf, inf, inf, inf, inf, inf, inf, inf, inf, inf, inf, 0, 54]\n",
      "20 \t: [inf, inf, inf, inf, inf, inf, inf, inf, inf, inf, inf, inf, inf, inf, inf, inf, inf, inf, inf, 0]\n",
      "\n",
      "1 \t: [-1, 2, 3, 3, 3, 3, 3, 3, 3, 3, 3, 3, 3, 3, 3, 3, 3, 3, 3, 3]\n",
      "2 \t: [-1, -1, 3, 3, 3, 3, 3, 3, 3, 3, 3, 3, 3, 3, 3, 3, 3, 3, 3, 3]\n",
      "3 \t: [-1, -1, -1, 4, 4, 4, 4, 4, 4, 4, 4, 4, 4, 4, 4, 4, 4, 4, 4, 4]\n",
      "4 \t: [-1, -1, -1, -1, 5, 6, 5, 5, 5, 5, 5, 5, 5, 5, 5, 5, 5, 5, 5, 5]\n",
      "5 \t: [-1, -1, -1, -1, -1, 6, 7, 7, 7, 7, 7, 7, 7, 7, 7, 7, 7, 7, 7, 7]\n",
      "6 \t: [-1, -1, -1, -1, -1, -1, 7, 7, 7, 7, 7, 7, 7, 7, 7, 7, 7, 7, 7, 7]\n",
      "7 \t: [-1, -1, -1, -1, -1, -1, -1, 8, 9, 8, 8, 8, 8, 8, 8, 8, 8, 8, 8, 8]\n",
      "8 \t: [-1, -1, -1, -1, -1, -1, -1, -1, 9, 10, 11, 12, 12, 12, 12, 12, 12, 12, 12, 12]\n",
      "9 \t: [-1, -1, -1, -1, -1, -1, -1, -1, -1, 10, 11, 11, 11, 11, 11, 11, 11, 11, 11, 11]\n",
      "10 \t: [-1, -1, -1, -1, -1, -1, -1, -1, -1, -1, 11, 11, 11, 11, 11, 11, 11, 11, 11, 11]\n",
      "11 \t: [-1, -1, -1, -1, -1, -1, -1, -1, -1, -1, -1, 12, 12, 12, 12, 12, 12, 12, 12, 12]\n",
      "12 \t: [-1, -1, -1, -1, -1, -1, -1, -1, -1, -1, -1, -1, 13, 13, 13, 13, 13, 13, 13, 13]\n",
      "13 \t: [-1, -1, -1, -1, -1, -1, -1, -1, -1, -1, -1, -1, -1, 14, 15, 16, 16, 16, 16, 16]\n",
      "14 \t: [-1, -1, -1, -1, -1, -1, -1, -1, -1, -1, -1, -1, -1, -1, 15, 15, 15, 15, 15, 15]\n",
      "15 \t: [-1, -1, -1, -1, -1, -1, -1, -1, -1, -1, -1, -1, -1, -1, -1, 16, 16, 16, 16, 16]\n",
      "16 \t: [-1, -1, -1, -1, -1, -1, -1, -1, -1, -1, -1, -1, -1, -1, -1, -1, 17, 17, 17, 17]\n",
      "17 \t: [-1, -1, -1, -1, -1, -1, -1, -1, -1, -1, -1, -1, -1, -1, -1, -1, -1, 18, 18, 18]\n",
      "18 \t: [-1, -1, -1, -1, -1, -1, -1, -1, -1, -1, -1, -1, -1, -1, -1, -1, -1, -1, 19, 19]\n",
      "19 \t: [-1, -1, -1, -1, -1, -1, -1, -1, -1, -1, -1, -1, -1, -1, -1, -1, -1, -1, -1, 20]\n",
      "20 \t: [-1, -1, -1, -1, -1, -1, -1, -1, -1, -1, -1, -1, -1, -1, -1, -1, -1, -1, -1, -1]\n"
     ]
    }
   ],
   "source": [
    "nextNodeMatrix = []\n",
    "shortestDistanceMatrix = getShortestDistanceAndNextNodeMatrices(routeAdjacencyMatrix, nextNodeMatrix, True)\n",
    "print('')\n",
    "for n in range(end):\n",
    "    print(n+1,'\\t:',nextNodeMatrix[n])"
   ]
  },
  {
   "cell_type": "markdown",
   "id": "3507e2eb",
   "metadata": {},
   "source": [
    "<h2>Optimal solution</h2>\n",
    "<h3>Control</h3>"
   ]
  },
  {
   "cell_type": "code",
   "execution_count": 14,
   "id": "22614cb0",
   "metadata": {},
   "outputs": [],
   "source": [
    "def Cost(u, v, Route, shortestDistanceMatrix, trace=False):\n",
    "    global tankLevel\n",
    "    \n",
    "    gallonsNeeded = (shortestDistanceMatrix[u - 1][v - 1] / milesPerGallon) - tankLevel\n",
    "    if (trace):\n",
    "        print('Gallons needed to reach station',v,':',gallonsNeeded)\n",
    "    if (gallonsNeeded > 0):\n",
    "        cost = round(Route.nodes[u]['price'] * (tankCapacity - tankLevel), 2)\n",
    "        tankLevel += (tankCapacity - tankLevel)\n",
    "        return cost\n",
    "    else:\n",
    "        return 0"
   ]
  },
  {
   "cell_type": "code",
   "execution_count": 15,
   "id": "48127b46",
   "metadata": {},
   "outputs": [],
   "source": [
    "def findOptimalRefuelingPolicy(Route, adjMatrix, path, trace=False):\n",
    "    global start, end, tankLevel\n",
    "    \n",
    "    nextNodeMatrix = []\n",
    "    shortestDistanceMatrix = getShortestDistanceAndNextNodeMatrices(adjMatrix, nextNodeMatrix)\n",
    "    \n",
    "    currStation = start\n",
    "    totalSpent = 0\n",
    "    tankLevel = tankCapacity\n",
    "    \n",
    "    if (trace):\n",
    "        print('Tank level:',tankLevel)\n",
    "        print('Total spent:',totalSpent)\n",
    "    \n",
    "    while currStation < end:\n",
    "        nextStation = nextNodeMatrix[currStation - 1][end - 1]\n",
    "        \n",
    "        if (trace):\n",
    "            print('Currently at station:',currStation)\n",
    "            print('Next station:',nextStation)\n",
    "            print('')\n",
    "        amount = Cost(currStation, nextStation, Route, shortestDistanceMatrix, trace)\n",
    "        \n",
    "        if (trace):\n",
    "            print('Adding',amount,'to the total spent')\n",
    "            print('')\n",
    "            print('Tank level:',tankLevel)\n",
    "        \n",
    "        totalSpent += amount\n",
    "        tankLevel -= (shortestDistanceMatrix[currStation - 1][nextStation - 1] / milesPerGallon)\n",
    "        \n",
    "        if (trace):\n",
    "            print('Total spent:',totalSpent)\n",
    "            print('Tank level:',tankLevel)\n",
    "        \n",
    "        currStation = nextStation\n",
    "        path.append(nextStation)\n",
    "    \n",
    "    tankLevel += (tankCapacity - tankLevel)\n",
    "    totalSpent += round((tankCapacity - tankLevel) * Route.nodes[currStation]['price'], 2)\n",
    "    \n",
    "    return round(totalSpent, 2)"
   ]
  },
  {
   "cell_type": "code",
   "execution_count": 16,
   "id": "4d2934e7",
   "metadata": {},
   "outputs": [
    {
     "name": "stdout",
     "output_type": "stream",
     "text": [
      "Tank level: 20\n",
      "Total spent: 0\n",
      "Currently at station: 1\n",
      "Next station: 3\n",
      "\n",
      "Gallons needed to reach station 3 : -13.85\n",
      "Adding 0 to the total spent\n",
      "\n",
      "Tank level: 20\n",
      "Total spent: 0\n",
      "Tank level: 13.85\n",
      "Currently at station: 3\n",
      "Next station: 4\n",
      "\n",
      "Gallons needed to reach station 4 : -12.049999999999999\n",
      "Adding 0 to the total spent\n",
      "\n",
      "Tank level: 13.85\n",
      "Total spent: 0\n",
      "Tank level: 12.049999999999999\n",
      "Currently at station: 4\n",
      "Next station: 5\n",
      "\n",
      "Gallons needed to reach station 5 : -11.499999999999998\n",
      "Adding 0 to the total spent\n",
      "\n",
      "Tank level: 12.049999999999999\n",
      "Total spent: 0\n",
      "Tank level: 11.499999999999998\n",
      "Currently at station: 5\n",
      "Next station: 7\n",
      "\n",
      "Gallons needed to reach station 7 : -6.649999999999999\n",
      "Adding 0 to the total spent\n",
      "\n",
      "Tank level: 11.499999999999998\n",
      "Total spent: 0\n",
      "Tank level: 6.649999999999999\n",
      "Currently at station: 7\n",
      "Next station: 8\n",
      "\n",
      "Gallons needed to reach station 8 : -2.4999999999999982\n",
      "Adding 0 to the total spent\n",
      "\n",
      "Tank level: 6.649999999999999\n",
      "Total spent: 0\n",
      "Tank level: 2.4999999999999982\n",
      "Currently at station: 8\n",
      "Next station: 12\n",
      "\n",
      "Gallons needed to reach station 12 : 6.400000000000002\n",
      "Adding 86.86 to the total spent\n",
      "\n",
      "Tank level: 20.0\n",
      "Total spent: 86.86\n",
      "Tank level: 11.1\n",
      "Currently at station: 12\n",
      "Next station: 13\n",
      "\n",
      "Gallons needed to reach station 13 : -10.549999999999999\n",
      "Adding 0 to the total spent\n",
      "\n",
      "Tank level: 11.1\n",
      "Total spent: 86.86\n",
      "Tank level: 10.549999999999999\n",
      "Currently at station: 13\n",
      "Next station: 16\n",
      "\n",
      "Gallons needed to reach station 16 : -5.549999999999999\n",
      "Adding 0 to the total spent\n",
      "\n",
      "Tank level: 10.549999999999999\n",
      "Total spent: 86.86\n",
      "Tank level: 5.549999999999999\n",
      "Currently at station: 16\n",
      "Next station: 17\n",
      "\n",
      "Gallons needed to reach station 17 : -2.949999999999999\n",
      "Adding 0 to the total spent\n",
      "\n",
      "Tank level: 5.549999999999999\n",
      "Total spent: 86.86\n",
      "Tank level: 2.949999999999999\n",
      "Currently at station: 17\n",
      "Next station: 18\n",
      "\n",
      "Gallons needed to reach station 18 : -1.6999999999999988\n",
      "Adding 0 to the total spent\n",
      "\n",
      "Tank level: 2.949999999999999\n",
      "Total spent: 86.86\n",
      "Tank level: 1.6999999999999988\n",
      "Currently at station: 18\n",
      "Next station: 19\n",
      "\n",
      "Gallons needed to reach station 19 : -0.7499999999999989\n",
      "Adding 0 to the total spent\n",
      "\n",
      "Tank level: 1.6999999999999988\n",
      "Total spent: 86.86\n",
      "Tank level: 0.7499999999999989\n",
      "Currently at station: 19\n",
      "Next station: 20\n",
      "\n",
      "Gallons needed to reach station 20 : 1.9500000000000013\n",
      "Adding 90.64 to the total spent\n",
      "\n",
      "Tank level: 20.0\n",
      "Total spent: 177.5\n",
      "Tank level: 17.3\n",
      "Path found with the optimal solution: [1, 3, 4, 5, 7, 8, 12, 13, 16, 17, 18, 19, 20]\n",
      "Total spent (optimal solution): $ 177.5\n"
     ]
    }
   ],
   "source": [
    "pathUsingOptimalSolution = [start]\n",
    "newTotal = findOptimalRefuelingPolicy(Stations, routeAdjacencyMatrix, pathUsingOptimalSolution, True)\n",
    "print('Path found with the optimal solution:',pathUsingOptimalSolution)\n",
    "print('Total spent (optimal solution): $',newTotal)"
   ]
  },
  {
   "cell_type": "markdown",
   "id": "a9a6ac57",
   "metadata": {},
   "source": [
    "<h2>Greedy solution for finding refueling policy for a fixed path</h2>"
   ]
  },
  {
   "cell_type": "code",
   "execution_count": 17,
   "id": "fd99ab61",
   "metadata": {},
   "outputs": [],
   "source": [
    "def FAR(Route, currStation, path):\n",
    "    cumulativeDistance = 0;\n",
    "    s = currStation\n",
    "    \n",
    "    #Add the distance to the next station until fuel runs out or the destination is reached\n",
    "    while s < (len(path) - 1) and (cumulativeDistance + Route[path[s]][path[s + 1]]['distance']) <= maxReachableDistance:\n",
    "        cumulativeDistance += Route[path[s]][path[s + 1]]['distance']\n",
    "        s += 1\n",
    "\n",
    "    return s; # Return the farthest reachable station on a full tank"
   ]
  },
  {
   "cell_type": "code",
   "execution_count": 18,
   "id": "3fb50c26",
   "metadata": {},
   "outputs": [],
   "source": [
    "def LOW(Route, currStation, farStation, path):\n",
    "    lowerPrice = Route.nodes[path[currStation]]['price']\n",
    "    lowerStation = currStation\n",
    "    \n",
    "    # Find the index of the lowest priced station between the current and farthest reachable station\n",
    "    s = currStation\n",
    "    while s <= farStation:\n",
    "        currPrice = Route.nodes[path[s]]['price']\n",
    "        \n",
    "        if currPrice < lowerPrice:\n",
    "            lowerStation = s\n",
    "            break\n",
    "        \n",
    "        s += 1\n",
    "    \n",
    "    return lowerStation # Return the least expensive station between the current and farthest reachable station"
   ]
  },
  {
   "cell_type": "code",
   "execution_count": 19,
   "id": "54aac226",
   "metadata": {},
   "outputs": [],
   "source": [
    "def findRefuelingPolicy(Route, path, trace=False):\n",
    "    totalSpent = 0\n",
    "    tankLevel = tankCapacity\n",
    "\n",
    "    for currStation in range(0, len(path) - 1): # Visit each station one at a time\n",
    "        if (trace):\n",
    "            print('Current station:',path[currStation])\n",
    "            print('Tank level:', tankLevel)\n",
    "            print('')\n",
    "        \n",
    "        # Fill the tank to capacity at the last station\n",
    "        if (currStation == len(path) - 1):\n",
    "            print('Since this is the last station, filling the tank to capacity')\n",
    "            tankLevel += (tankCapacity - tankLevel)\n",
    "            totalSpent += round((tankCapacity - tankLevel) * Route.nodes[path[currStation]]['price'])\n",
    "            break\n",
    "        \n",
    "        farStation = FAR(Route, currStation, path)\n",
    "        lowerStation = LOW(Route, currStation, farStation, path) # Find the cheapest station in the range of a full tank\n",
    "        numGallonsNeeded = 0\n",
    "        \n",
    "        if (trace):\n",
    "            print('The cheapest station in range of a full tank is',path[lowerStation])\n",
    "    \n",
    "        if lowerStation == currStation:\n",
    "            # If the current station is the cheapest in range, fill the tank\n",
    "            numGallonsNeeded = tankCapacity - tankLevel\n",
    "            tankLevel += numGallonsNeeded\n",
    "            totalSpent += round(numGallonsNeeded * Route.nodes[path[currStation]]['price'], 2)\n",
    "            \n",
    "            if (trace):\n",
    "                print('The current station is the cheapest in range. Adding',numGallonsNeeded,'gallons to fill the tank completely. Total spent is now $',totalSpent)\n",
    "        else:\n",
    "            # If there is a cheaper station farther on, only fill the tank if there is not enough fuel to reach it\n",
    "            for i in range(currStation, lowerStation):\n",
    "                numGallonsNeeded += (Route[path[i]][path[i + 1]]['distance'] / milesPerGallon)\n",
    "            \n",
    "            if (trace):\n",
    "                print(numGallonsNeeded,'gallons needed to reach station',path[lowerStation])\n",
    "            \n",
    "            if tankLevel < numGallonsNeeded:\n",
    "                totalSpent += round((tankCapacity - tankLevel) * Route.nodes[path[currStation]]['price'], 2)\n",
    "                tankLevel += (tankCapacity - tankLevel)\n",
    "                \n",
    "                if (trace):\n",
    "                    print('Adding',(tankCapacity - tankLevel),'gallons to the tank to reach station',path[lowerStation],'. Total spent is now $',totalSpent)\n",
    "            elif (trace):\n",
    "                print('There is enough fuel to reach station',path[lowerStation])\n",
    "                \n",
    "                if tankLevel > tankCapacity:\n",
    "                    print('Error: station',path[currStation],'and station',path[lowerStation],'are too far apart')\n",
    "                    return -1\n",
    "    \n",
    "        # Reduce the tank level traveling to the next station\n",
    "        tankLevel -= numGallonsNeeded\n",
    "        \n",
    "        if (trace):\n",
    "            print('Advancing to station',path[currStation + 1])\n",
    "            print('')\n",
    "\n",
    "    return round(totalSpent, 2)"
   ]
  },
  {
   "cell_type": "markdown",
   "id": "30c0dea9",
   "metadata": {},
   "source": [
    "<h2>Dynamic programming solution for finding refueling policy for a fixed path</h2>"
   ]
  },
  {
   "cell_type": "code",
   "execution_count": 20,
   "id": "d0d05fdf",
   "metadata": {},
   "outputs": [],
   "source": [
    "# For each station starting from the end, find the best cost to the destination\n",
    "# Best cost to the destination = cost to next station + cost from next station to destination\n",
    "def findRefuelingPolicyDynamically(Route, path, gallonsInTank = tankCapacity, start = 0):\n",
    "    if (start == (len(path) - 1)):\n",
    "        # Fill tank to capacity at the last station\n",
    "        return round((tankCapacity - gallonsInTank) * Route.nodes[path[start]]['price'], 2)\n",
    "    \n",
    "    fuelToNextStation = Route[path[start]][path[start + 1]]['distance'] / milesPerGallon\n",
    "    \n",
    "    # Initialize each scenario's cost to a high value in case a scenario is impossible\n",
    "    costToDestFillTank = np.inf\n",
    "    costToDestNoFill = np.inf\n",
    "    \n",
    "    # Scenario 1: Fill the tank to capacity\n",
    "    if (gallonsInTank < tankCapacity):\n",
    "        costToNextStationFillTank = (tankCapacity - gallonsInTank) * Route.nodes[path[start]]['price']\n",
    "        costToDestFillTank = costToNextStationFillTank + findRefuelingPolicyDynamically(Route, path, tankCapacity - fuelToNextStation, start + 1)\n",
    "    \n",
    "    # Scenario 2: Do not fill the tank\n",
    "    if (fuelToNextStation <= gallonsInTank):\n",
    "        costToDestNoFill = findRefuelingPolicyDynamically(Route, path, gallonsInTank - fuelToNextStation, start + 1)\n",
    "    \n",
    "    # Choose the optimal scenario\n",
    "    totalSpent = min(costToDestFillTank, costToDestNoFill)\n",
    "    return round(totalSpent, 2)"
   ]
  },
  {
   "cell_type": "markdown",
   "id": "89e1021e",
   "metadata": {},
   "source": [
    "<h2>Cheapest station solution</h2>\n",
    "<h3>Always pick the next immediate cheapest station</h3>"
   ]
  },
  {
   "cell_type": "code",
   "execution_count": 21,
   "id": "0dcd8925",
   "metadata": {},
   "outputs": [],
   "source": [
    "def getPathChoosingNextCheapestStation(Route, adjMatrix, begin = 1):\n",
    "    path = [begin]\n",
    "    station = begin\n",
    "\n",
    "    while station < end:\n",
    "        \n",
    "        minNextStationPrice = 0\n",
    "        cheapestStation = 0\n",
    "        \n",
    "        # At each station, find the cheapest reachable station\n",
    "        nextStation = station + 1\n",
    "        while nextStation <= end and (0 < adjMatrix[station - 1][nextStation - 1] <= maxReachableDistance):\n",
    "            nextStationPrice = Route.nodes[nextStation]['price']\n",
    "\n",
    "            # Keep track of the minimum price of one of the next stations\n",
    "            if nextStation == (station + 1) or nextStationPrice < minNextStationPrice:\n",
    "                minNextStationPrice = nextStationPrice\n",
    "                cheapestStation = nextStation\n",
    "\n",
    "            nextStation += 1\n",
    "\n",
    "        # Advance to the cheapest station\n",
    "        path.append(cheapestStation)\n",
    "        station = cheapestStation\n",
    "    \n",
    "    return path"
   ]
  },
  {
   "cell_type": "code",
   "execution_count": 22,
   "id": "7753e912",
   "metadata": {},
   "outputs": [
    {
     "name": "stdout",
     "output_type": "stream",
     "text": [
      "Path found by choosing the next cheapest station: [1, 2, 7, 9, 10, 11, 12, 16, 17, 19, 20]\n",
      "Total spent (greedy solution): $ 256.69\n",
      "Total spent (dynamic solution): $ 291.85\n"
     ]
    }
   ],
   "source": [
    "pathChoosingNextCheapestStation = getPathChoosingNextCheapestStation(Stations, routeAdjacencyMatrix)\n",
    "print('Path found by choosing the next cheapest station:',pathChoosingNextCheapestStation)\n",
    "\n",
    "newTotal = findRefuelingPolicy(Stations, pathChoosingNextCheapestStation)\n",
    "print('Total spent (greedy solution): $',newTotal)\n",
    "\n",
    "newTotal = findRefuelingPolicyDynamically(Stations, pathChoosingNextCheapestStation)\n",
    "print('Total spent (dynamic solution): $',newTotal)"
   ]
  },
  {
   "cell_type": "markdown",
   "id": "205fde27",
   "metadata": {},
   "source": [
    "<h2>A* search solution</h2>\n",
    "<h3>Pick the next station that will minimize the cost to refill the tank and the cost to reach the destination</h3>"
   ]
  },
  {
   "cell_type": "code",
   "execution_count": 23,
   "id": "9fd4d926",
   "metadata": {},
   "outputs": [],
   "source": [
    "def costToRefillTankAtNextStation(Route, currStation, nextStation):\n",
    "    # A* 'g' function = cost to refill tank at next station\n",
    "    fuelToNextStation = Route[currStation][nextStation]['distance'] / milesPerGallon\n",
    "    costToRefillTank = fuelToNextStation * Route.nodes[nextStation]['price']\n",
    "    return costToRefillTank"
   ]
  },
  {
   "cell_type": "code",
   "execution_count": 24,
   "id": "0995252b",
   "metadata": {},
   "outputs": [],
   "source": [
    "def costToReachDestinationFromNextStation(Route, adjMatrix, nextStation):\n",
    "    # A* 'h' function = cost to travel from the station being considered through the following cheapest stations\n",
    "    pathToEnd = getPathChoosingNextCheapestStation(Route, adjMatrix, nextStation)\n",
    "    costToReachDestination = findRefuelingPolicy(Route, pathToEnd)\n",
    "    return costToReachDestination"
   ]
  },
  {
   "cell_type": "code",
   "execution_count": 25,
   "id": "867ff34c",
   "metadata": {},
   "outputs": [],
   "source": [
    "def getPathUsingAStar(Route, adjMatrix):\n",
    "    path = [start]\n",
    "    station = start\n",
    "    \n",
    "    while (station < end):\n",
    "        # At each station, find the reachable station that minimizes \"f = (g + h)\"\n",
    "        nextStation = station + 1\n",
    "        while (nextStation <= end) and (0 < adjMatrix[station - 1][nextStation - 1] <= maxReachableDistance):\n",
    "            g = costToRefillTankAtNextStation(Route, station, nextStation)\n",
    "            h = costToReachDestinationFromNextStation(Route, adjMatrix, nextStation)\n",
    "            nextStationF = (g + h)\n",
    "            \n",
    "            # Keep track of the minimum value for \"f\"\n",
    "            if nextStation == (station + 1) or nextStationF < minNextStationF:\n",
    "                minNextStationF = nextStationF\n",
    "                bestStation = nextStation\n",
    "            \n",
    "            nextStation += 1\n",
    "        \n",
    "        # Advance to the best station\n",
    "        path.append(bestStation)\n",
    "        station = bestStation\n",
    "    \n",
    "    return path"
   ]
  },
  {
   "cell_type": "code",
   "execution_count": 26,
   "id": "739501b1",
   "metadata": {},
   "outputs": [
    {
     "name": "stdout",
     "output_type": "stream",
     "text": [
      "Path found using A* search: [1, 2, 7, 11, 12, 16, 17, 18, 19, 20]\n",
      "Total spent (greedy solution): $ 163.24\n",
      "Total spent (dynamic solution): $ 265.77\n"
     ]
    }
   ],
   "source": [
    "pathUsingAStar = getPathUsingAStar(Stations, routeAdjacencyMatrix)\n",
    "print('Path found using A* search:',pathUsingAStar)\n",
    "\n",
    "newTotal = findRefuelingPolicy(Stations, pathUsingAStar)\n",
    "print('Total spent (greedy solution): $',newTotal)\n",
    "\n",
    "newTotal = findRefuelingPolicyDynamically(Stations, pathUsingAStar)\n",
    "print('Total spent (dynamic solution): $',newTotal)"
   ]
  },
  {
   "cell_type": "markdown",
   "id": "3670f683",
   "metadata": {},
   "source": [
    "<h2>Floyd-Warshall Solution</h2>\n",
    "<h3>Find the shortest path between all pairs of vertices, take the path from the start to the destination</h3>"
   ]
  },
  {
   "cell_type": "code",
   "execution_count": 27,
   "id": "8daf7cf1",
   "metadata": {},
   "outputs": [],
   "source": [
    "def getPathUsingFloydWarshall(adjMatrix):\n",
    "    nextNodeMatrix = []\n",
    "    shortestDistanceMatrix = getShortestDistanceAndNextNodeMatrices(adjMatrix, nextNodeMatrix)\n",
    "    \n",
    "    # Follow the nodes stored in the next node matrix to find the shortest path from the start to the destination\n",
    "    s = start\n",
    "    path = [s]\n",
    "    while (s != end):\n",
    "        s = nextNodeMatrix[s - 1][end - 1]\n",
    "        path.append(s)\n",
    "    return path"
   ]
  },
  {
   "cell_type": "code",
   "execution_count": 28,
   "id": "72f7c54c",
   "metadata": {},
   "outputs": [
    {
     "name": "stdout",
     "output_type": "stream",
     "text": [
      "Path found using the Floyd-Warshall algorithm: [1, 3, 4, 5, 7, 8, 12, 13, 16, 17, 18, 19, 20]\n",
      "Total spent (greedy solution): $ 267.58\n",
      "Total spent (dynamic solution): $ 184.32\n"
     ]
    }
   ],
   "source": [
    "pathUsingFloydWarshall = getPathUsingFloydWarshall(routeAdjacencyMatrix)\n",
    "print('Path found using the Floyd-Warshall algorithm:',pathUsingFloydWarshall)\n",
    "\n",
    "newTotal = findRefuelingPolicy(Stations, pathUsingFloydWarshall)\n",
    "print('Total spent (greedy solution): $',newTotal)\n",
    "\n",
    "newTotal = findRefuelingPolicyDynamically(Stations, pathUsingFloydWarshall)\n",
    "print('Total spent (dynamic solution): $',newTotal)"
   ]
  },
  {
   "cell_type": "markdown",
   "id": "2758183f",
   "metadata": {},
   "source": [
    "<h2>Collect observational data</h2>\n",
    "<h3>Compare accuracy of the three pathfinding solutions for 100 randomly generated graphs</h3>"
   ]
  },
  {
   "cell_type": "code",
   "execution_count": 29,
   "id": "93258c23",
   "metadata": {},
   "outputs": [],
   "source": [
    "# Shorthand:\n",
    "# Optimal solution = OS\n",
    "# Cheapest station = CS\n",
    "# A* = AS\n",
    "# Dynamic programming = DP\n",
    "# Floyd-Warshall = FW"
   ]
  },
  {
   "cell_type": "code",
   "execution_count": 30,
   "id": "4436fa89",
   "metadata": {},
   "outputs": [],
   "source": [
    "def getAllSolutionsForOneRoute():\n",
    "    solutions = []\n",
    "    Stations = generateRandomOpenRouteGraph()\n",
    "    \n",
    "    if (Stations == -1): # If minDistance >= maxDistance in Stations\n",
    "        print('Invalid route at index',i)\n",
    "        return ['N/A','N/A','N/A','N/A','N/A','N/A','N/A']\n",
    "    \n",
    "    routeAdjacencyMatrix = getAdjacencyMatrix(Stations)\n",
    "    \n",
    "    # Optimal solution: Use the shortest distance and next node matrices to find the best refueling policy\n",
    "    pathUsingOptimalSolution = [start]\n",
    "    optimalTotalSpent = findOptimalRefuelingPolicy(Stations, routeAdjacencyMatrix, pathUsingOptimalSolution)\n",
    "    \n",
    "    solutions.append(optimalTotalSpent)\n",
    "    \n",
    "    # Simple solution: Get one path by choosing the next cheapest reachable station\n",
    "    pathChoosingNextCheapestStation = getPathChoosingNextCheapestStation(Stations, routeAdjacencyMatrix)\n",
    "    \n",
    "    cheapestStationTotalSpentGreedy = findRefuelingPolicy(Stations, pathChoosingNextCheapestStation)\n",
    "    cheapestStationTotalSpentDynamic = findRefuelingPolicyDynamically(Stations, pathChoosingNextCheapestStation)\n",
    "    \n",
    "    solutions.append(cheapestStationTotalSpentGreedy)\n",
    "    solutions.append(cheapestStationTotalSpentDynamic)\n",
    "    \n",
    "    # A* solution: Get one path by choosing the next station that minimizes \"(g + h)\"\n",
    "    pathUsingAStar = getPathUsingAStar(Stations, routeAdjacencyMatrix)\n",
    "    \n",
    "    aStarTotalSpentGreedy = findRefuelingPolicy(Stations, pathUsingAStar)\n",
    "    aStarTotalSpentDynamic = findRefuelingPolicyDynamically(Stations, pathUsingAStar)\n",
    "    \n",
    "    solutions.append(aStarTotalSpentGreedy)\n",
    "    solutions.append(aStarTotalSpentDynamic)\n",
    "    \n",
    "    # Floyd-Warshall solution: Get all shortest paths (by edge length) between all pairs of stations\n",
    "    pathUsingFloydWarshall = getPathUsingFloydWarshall(routeAdjacencyMatrix)\n",
    "    \n",
    "    floydWarshallTotalSpentGreedy = findRefuelingPolicy(Stations, pathUsingFloydWarshall)\n",
    "    floydWarshallTotalSpentDynamic = findRefuelingPolicyDynamically(Stations, pathUsingFloydWarshall)\n",
    "    \n",
    "    solutions.append(floydWarshallTotalSpentGreedy)\n",
    "    solutions.append(floydWarshallTotalSpentDynamic)\n",
    "    \n",
    "    return solutions"
   ]
  },
  {
   "cell_type": "code",
   "execution_count": 31,
   "id": "6e422b8e",
   "metadata": {},
   "outputs": [],
   "source": [
    "data = []\n",
    "for i in range(100): # Get results for 100 randomly generated graphs\n",
    "    row = getAllSolutionsForOneRoute()\n",
    "    data.append(row)"
   ]
  },
  {
   "cell_type": "code",
   "execution_count": 32,
   "id": "a9d61373",
   "metadata": {},
   "outputs": [],
   "source": [
    "# Store the results in a dataframe and export to a .csv\n",
    "df = pd.DataFrame(data, columns=['OS Total Spent','CS Total Spent (G)', 'CS Total Spent (D)', 'A* Total Spent (G)', 'A* Total Spent (D)', 'FW Total Spent (G)', 'FW Total Spent (D)'])\n",
    "df.to_csv('openRouteResults.csv')"
   ]
  },
  {
   "cell_type": "code",
   "execution_count": 33,
   "id": "e845971d",
   "metadata": {},
   "outputs": [
    {
     "data": {
      "text/html": [
       "<div>\n",
       "<style scoped>\n",
       "    .dataframe tbody tr th:only-of-type {\n",
       "        vertical-align: middle;\n",
       "    }\n",
       "\n",
       "    .dataframe tbody tr th {\n",
       "        vertical-align: top;\n",
       "    }\n",
       "\n",
       "    .dataframe thead th {\n",
       "        text-align: right;\n",
       "    }\n",
       "</style>\n",
       "<table border=\"1\" class=\"dataframe\">\n",
       "  <thead>\n",
       "    <tr style=\"text-align: right;\">\n",
       "      <th></th>\n",
       "      <th>OS Total Spent</th>\n",
       "      <th>CS Total Spent (G)</th>\n",
       "      <th>CS Total Spent (D)</th>\n",
       "      <th>A* Total Spent (G)</th>\n",
       "      <th>A* Total Spent (D)</th>\n",
       "      <th>FW Total Spent (G)</th>\n",
       "      <th>FW Total Spent (D)</th>\n",
       "    </tr>\n",
       "  </thead>\n",
       "  <tbody>\n",
       "    <tr>\n",
       "      <th>0</th>\n",
       "      <td>163.89</td>\n",
       "      <td>170.48</td>\n",
       "      <td>267.97</td>\n",
       "      <td>207.45</td>\n",
       "      <td>197.49</td>\n",
       "      <td>183.65</td>\n",
       "      <td>174.90</td>\n",
       "    </tr>\n",
       "    <tr>\n",
       "      <th>1</th>\n",
       "      <td>90.05</td>\n",
       "      <td>285.86</td>\n",
       "      <td>204.38</td>\n",
       "      <td>95.89</td>\n",
       "      <td>194.17</td>\n",
       "      <td>211.99</td>\n",
       "      <td>129.37</td>\n",
       "    </tr>\n",
       "    <tr>\n",
       "      <th>2</th>\n",
       "      <td>97.11</td>\n",
       "      <td>308.27</td>\n",
       "      <td>173.46</td>\n",
       "      <td>323.02</td>\n",
       "      <td>148.83</td>\n",
       "      <td>181.67</td>\n",
       "      <td>136.29</td>\n",
       "    </tr>\n",
       "    <tr>\n",
       "      <th>3</th>\n",
       "      <td>60.44</td>\n",
       "      <td>256.31</td>\n",
       "      <td>176.76</td>\n",
       "      <td>232.50</td>\n",
       "      <td>163.51</td>\n",
       "      <td>210.14</td>\n",
       "      <td>121.58</td>\n",
       "    </tr>\n",
       "    <tr>\n",
       "      <th>4</th>\n",
       "      <td>86.27</td>\n",
       "      <td>134.09</td>\n",
       "      <td>209.00</td>\n",
       "      <td>184.92</td>\n",
       "      <td>174.95</td>\n",
       "      <td>126.34</td>\n",
       "      <td>164.97</td>\n",
       "    </tr>\n",
       "    <tr>\n",
       "      <th>...</th>\n",
       "      <td>...</td>\n",
       "      <td>...</td>\n",
       "      <td>...</td>\n",
       "      <td>...</td>\n",
       "      <td>...</td>\n",
       "      <td>...</td>\n",
       "      <td>...</td>\n",
       "    </tr>\n",
       "    <tr>\n",
       "      <th>95</th>\n",
       "      <td>93.33</td>\n",
       "      <td>239.22</td>\n",
       "      <td>187.60</td>\n",
       "      <td>118.81</td>\n",
       "      <td>140.62</td>\n",
       "      <td>158.52</td>\n",
       "      <td>130.03</td>\n",
       "    </tr>\n",
       "    <tr>\n",
       "      <th>96</th>\n",
       "      <td>183.63</td>\n",
       "      <td>327.93</td>\n",
       "      <td>221.75</td>\n",
       "      <td>323.15</td>\n",
       "      <td>197.90</td>\n",
       "      <td>263.92</td>\n",
       "      <td>185.97</td>\n",
       "    </tr>\n",
       "    <tr>\n",
       "      <th>97</th>\n",
       "      <td>83.15</td>\n",
       "      <td>163.45</td>\n",
       "      <td>185.35</td>\n",
       "      <td>313.17</td>\n",
       "      <td>177.23</td>\n",
       "      <td>121.57</td>\n",
       "      <td>125.48</td>\n",
       "    </tr>\n",
       "    <tr>\n",
       "      <th>98</th>\n",
       "      <td>94.93</td>\n",
       "      <td>243.42</td>\n",
       "      <td>218.89</td>\n",
       "      <td>280.49</td>\n",
       "      <td>201.33</td>\n",
       "      <td>253.65</td>\n",
       "      <td>139.04</td>\n",
       "    </tr>\n",
       "    <tr>\n",
       "      <th>99</th>\n",
       "      <td>81.00</td>\n",
       "      <td>463.30</td>\n",
       "      <td>206.81</td>\n",
       "      <td>284.07</td>\n",
       "      <td>218.54</td>\n",
       "      <td>278.81</td>\n",
       "      <td>164.68</td>\n",
       "    </tr>\n",
       "  </tbody>\n",
       "</table>\n",
       "<p>100 rows × 7 columns</p>\n",
       "</div>"
      ],
      "text/plain": [
       "    OS Total Spent  CS Total Spent (G)  CS Total Spent (D)  \\\n",
       "0           163.89              170.48              267.97   \n",
       "1            90.05              285.86              204.38   \n",
       "2            97.11              308.27              173.46   \n",
       "3            60.44              256.31              176.76   \n",
       "4            86.27              134.09              209.00   \n",
       "..             ...                 ...                 ...   \n",
       "95           93.33              239.22              187.60   \n",
       "96          183.63              327.93              221.75   \n",
       "97           83.15              163.45              185.35   \n",
       "98           94.93              243.42              218.89   \n",
       "99           81.00              463.30              206.81   \n",
       "\n",
       "    A* Total Spent (G)  A* Total Spent (D)  FW Total Spent (G)  \\\n",
       "0               207.45              197.49              183.65   \n",
       "1                95.89              194.17              211.99   \n",
       "2               323.02              148.83              181.67   \n",
       "3               232.50              163.51              210.14   \n",
       "4               184.92              174.95              126.34   \n",
       "..                 ...                 ...                 ...   \n",
       "95              118.81              140.62              158.52   \n",
       "96              323.15              197.90              263.92   \n",
       "97              313.17              177.23              121.57   \n",
       "98              280.49              201.33              253.65   \n",
       "99              284.07              218.54              278.81   \n",
       "\n",
       "    FW Total Spent (D)  \n",
       "0               174.90  \n",
       "1               129.37  \n",
       "2               136.29  \n",
       "3               121.58  \n",
       "4               164.97  \n",
       "..                 ...  \n",
       "95              130.03  \n",
       "96              185.97  \n",
       "97              125.48  \n",
       "98              139.04  \n",
       "99              164.68  \n",
       "\n",
       "[100 rows x 7 columns]"
      ]
     },
     "execution_count": 33,
     "metadata": {},
     "output_type": "execute_result"
    }
   ],
   "source": [
    "df"
   ]
  },
  {
   "cell_type": "code",
   "execution_count": 34,
   "id": "c86eb1e5",
   "metadata": {},
   "outputs": [],
   "source": [
    "numericDF = df[df['OS Total Spent'] != 'N/A']"
   ]
  },
  {
   "cell_type": "code",
   "execution_count": 35,
   "id": "fb8c6af9",
   "metadata": {},
   "outputs": [
    {
     "data": {
      "text/html": [
       "<div>\n",
       "<style scoped>\n",
       "    .dataframe tbody tr th:only-of-type {\n",
       "        vertical-align: middle;\n",
       "    }\n",
       "\n",
       "    .dataframe tbody tr th {\n",
       "        vertical-align: top;\n",
       "    }\n",
       "\n",
       "    .dataframe thead th {\n",
       "        text-align: right;\n",
       "    }\n",
       "</style>\n",
       "<table border=\"1\" class=\"dataframe\">\n",
       "  <thead>\n",
       "    <tr style=\"text-align: right;\">\n",
       "      <th></th>\n",
       "      <th>OS Total Spent</th>\n",
       "      <th>CS Total Spent (G)</th>\n",
       "      <th>CS Total Spent (D)</th>\n",
       "      <th>A* Total Spent (G)</th>\n",
       "      <th>A* Total Spent (D)</th>\n",
       "      <th>FW Total Spent (G)</th>\n",
       "      <th>FW Total Spent (D)</th>\n",
       "    </tr>\n",
       "  </thead>\n",
       "  <tbody>\n",
       "    <tr>\n",
       "      <th>0</th>\n",
       "      <td>163.89</td>\n",
       "      <td>170.48</td>\n",
       "      <td>267.97</td>\n",
       "      <td>207.45</td>\n",
       "      <td>197.49</td>\n",
       "      <td>183.65</td>\n",
       "      <td>174.90</td>\n",
       "    </tr>\n",
       "    <tr>\n",
       "      <th>1</th>\n",
       "      <td>90.05</td>\n",
       "      <td>285.86</td>\n",
       "      <td>204.38</td>\n",
       "      <td>95.89</td>\n",
       "      <td>194.17</td>\n",
       "      <td>211.99</td>\n",
       "      <td>129.37</td>\n",
       "    </tr>\n",
       "    <tr>\n",
       "      <th>2</th>\n",
       "      <td>97.11</td>\n",
       "      <td>308.27</td>\n",
       "      <td>173.46</td>\n",
       "      <td>323.02</td>\n",
       "      <td>148.83</td>\n",
       "      <td>181.67</td>\n",
       "      <td>136.29</td>\n",
       "    </tr>\n",
       "    <tr>\n",
       "      <th>3</th>\n",
       "      <td>60.44</td>\n",
       "      <td>256.31</td>\n",
       "      <td>176.76</td>\n",
       "      <td>232.50</td>\n",
       "      <td>163.51</td>\n",
       "      <td>210.14</td>\n",
       "      <td>121.58</td>\n",
       "    </tr>\n",
       "    <tr>\n",
       "      <th>4</th>\n",
       "      <td>86.27</td>\n",
       "      <td>134.09</td>\n",
       "      <td>209.00</td>\n",
       "      <td>184.92</td>\n",
       "      <td>174.95</td>\n",
       "      <td>126.34</td>\n",
       "      <td>164.97</td>\n",
       "    </tr>\n",
       "    <tr>\n",
       "      <th>...</th>\n",
       "      <td>...</td>\n",
       "      <td>...</td>\n",
       "      <td>...</td>\n",
       "      <td>...</td>\n",
       "      <td>...</td>\n",
       "      <td>...</td>\n",
       "      <td>...</td>\n",
       "    </tr>\n",
       "    <tr>\n",
       "      <th>95</th>\n",
       "      <td>93.33</td>\n",
       "      <td>239.22</td>\n",
       "      <td>187.60</td>\n",
       "      <td>118.81</td>\n",
       "      <td>140.62</td>\n",
       "      <td>158.52</td>\n",
       "      <td>130.03</td>\n",
       "    </tr>\n",
       "    <tr>\n",
       "      <th>96</th>\n",
       "      <td>183.63</td>\n",
       "      <td>327.93</td>\n",
       "      <td>221.75</td>\n",
       "      <td>323.15</td>\n",
       "      <td>197.90</td>\n",
       "      <td>263.92</td>\n",
       "      <td>185.97</td>\n",
       "    </tr>\n",
       "    <tr>\n",
       "      <th>97</th>\n",
       "      <td>83.15</td>\n",
       "      <td>163.45</td>\n",
       "      <td>185.35</td>\n",
       "      <td>313.17</td>\n",
       "      <td>177.23</td>\n",
       "      <td>121.57</td>\n",
       "      <td>125.48</td>\n",
       "    </tr>\n",
       "    <tr>\n",
       "      <th>98</th>\n",
       "      <td>94.93</td>\n",
       "      <td>243.42</td>\n",
       "      <td>218.89</td>\n",
       "      <td>280.49</td>\n",
       "      <td>201.33</td>\n",
       "      <td>253.65</td>\n",
       "      <td>139.04</td>\n",
       "    </tr>\n",
       "    <tr>\n",
       "      <th>99</th>\n",
       "      <td>81.00</td>\n",
       "      <td>463.30</td>\n",
       "      <td>206.81</td>\n",
       "      <td>284.07</td>\n",
       "      <td>218.54</td>\n",
       "      <td>278.81</td>\n",
       "      <td>164.68</td>\n",
       "    </tr>\n",
       "  </tbody>\n",
       "</table>\n",
       "<p>100 rows × 7 columns</p>\n",
       "</div>"
      ],
      "text/plain": [
       "    OS Total Spent  CS Total Spent (G)  CS Total Spent (D)  \\\n",
       "0           163.89              170.48              267.97   \n",
       "1            90.05              285.86              204.38   \n",
       "2            97.11              308.27              173.46   \n",
       "3            60.44              256.31              176.76   \n",
       "4            86.27              134.09              209.00   \n",
       "..             ...                 ...                 ...   \n",
       "95           93.33              239.22              187.60   \n",
       "96          183.63              327.93              221.75   \n",
       "97           83.15              163.45              185.35   \n",
       "98           94.93              243.42              218.89   \n",
       "99           81.00              463.30              206.81   \n",
       "\n",
       "    A* Total Spent (G)  A* Total Spent (D)  FW Total Spent (G)  \\\n",
       "0               207.45              197.49              183.65   \n",
       "1                95.89              194.17              211.99   \n",
       "2               323.02              148.83              181.67   \n",
       "3               232.50              163.51              210.14   \n",
       "4               184.92              174.95              126.34   \n",
       "..                 ...                 ...                 ...   \n",
       "95              118.81              140.62              158.52   \n",
       "96              323.15              197.90              263.92   \n",
       "97              313.17              177.23              121.57   \n",
       "98              280.49              201.33              253.65   \n",
       "99              284.07              218.54              278.81   \n",
       "\n",
       "    FW Total Spent (D)  \n",
       "0               174.90  \n",
       "1               129.37  \n",
       "2               136.29  \n",
       "3               121.58  \n",
       "4               164.97  \n",
       "..                 ...  \n",
       "95              130.03  \n",
       "96              185.97  \n",
       "97              125.48  \n",
       "98              139.04  \n",
       "99              164.68  \n",
       "\n",
       "[100 rows x 7 columns]"
      ]
     },
     "execution_count": 35,
     "metadata": {},
     "output_type": "execute_result"
    }
   ],
   "source": [
    "numericDF"
   ]
  },
  {
   "cell_type": "code",
   "execution_count": 36,
   "id": "f2a4fd84",
   "metadata": {},
   "outputs": [
    {
     "data": {
      "text/plain": [
       "(array([ 3.,  0.,  4., 31., 37.,  0.,  5., 13.,  6.,  1.]),\n",
       " array([  0.  ,  21.88,  43.76,  65.64,  87.52, 109.4 , 131.28, 153.16,\n",
       "        175.04, 196.92, 218.8 ]),\n",
       " <BarContainer object of 10 artists>)"
      ]
     },
     "execution_count": 36,
     "metadata": {},
     "output_type": "execute_result"
    },
    {
     "data": {
      "image/png": "[encoded data removed]",
      "text/plain": [
       "<Figure size 432x288 with 1 Axes>"
      ]
     },
     "metadata": {
      "needs_background": "light"
     },
     "output_type": "display_data"
    }
   ],
   "source": [
    "plt.hist(numericDF['OS Total Spent'])"
   ]
  },
  {
   "cell_type": "code",
   "execution_count": 37,
   "id": "a57a6b03",
   "metadata": {},
   "outputs": [
    {
     "data": {
      "text/plain": [
       "(array([ 2.,  2.,  4., 16., 17., 17., 20., 12.,  6.,  4.]),\n",
       " array([109.92 , 125.986, 142.052, 158.118, 174.184, 190.25 , 206.316,\n",
       "        222.382, 238.448, 254.514, 270.58 ]),\n",
       " <BarContainer object of 10 artists>)"
      ]
     },
     "execution_count": 37,
     "metadata": {},
     "output_type": "execute_result"
    },
    {
     "data": {
      "image/png": "[encoded data removed]",
      "text/plain": [
       "<Figure size 432x288 with 1 Axes>"
      ]
     },
     "metadata": {
      "needs_background": "light"
     },
     "output_type": "display_data"
    }
   ],
   "source": [
    "plt.hist(numericDF['CS Total Spent (D)'])"
   ]
  },
  {
   "cell_type": "code",
   "execution_count": 38,
   "id": "9bcfecc0",
   "metadata": {},
   "outputs": [
    {
     "data": {
      "text/plain": [
       "(array([ 4.,  7., 12., 12., 19., 14., 15., 13.,  2.,  2.]),\n",
       " array([108.62 , 124.177, 139.734, 155.291, 170.848, 186.405, 201.962,\n",
       "        217.519, 233.076, 248.633, 264.19 ]),\n",
       " <BarContainer object of 10 artists>)"
      ]
     },
     "execution_count": 38,
     "metadata": {},
     "output_type": "execute_result"
    },
    {
     "data": {
      "image/png": "[encoded data removed]",
      "text/plain": [
       "<Figure size 432x288 with 1 Axes>"
      ]
     },
     "metadata": {
      "needs_background": "light"
     },
     "output_type": "display_data"
    }
   ],
   "source": [
    "plt.hist(numericDF['A* Total Spent (D)'])"
   ]
  },
  {
   "cell_type": "code",
   "execution_count": 39,
   "id": "2336e5b6",
   "metadata": {},
   "outputs": [
    {
     "data": {
      "text/plain": [
       "(array([ 4., 12., 11., 20., 14., 12., 13.,  9.,  4.,  1.]),\n",
       " array([ 85.22 ,  99.257, 113.294, 127.331, 141.368, 155.405, 169.442,\n",
       "        183.479, 197.516, 211.553, 225.59 ]),\n",
       " <BarContainer object of 10 artists>)"
      ]
     },
     "execution_count": 39,
     "metadata": {},
     "output_type": "execute_result"
    },
    {
     "data": {
      "image/png": "[encoded data removed]",
      "text/plain": [
       "<Figure size 432x288 with 1 Axes>"
      ]
     },
     "metadata": {
      "needs_background": "light"
     },
     "output_type": "display_data"
    }
   ],
   "source": [
    "plt.hist(numericDF['FW Total Spent (D)'])"
   ]
  },
  {
   "cell_type": "code",
   "execution_count": 40,
   "id": "eeaa0cc9",
   "metadata": {},
   "outputs": [
    {
     "data": {
      "image/png": "[encoded data removed]",
      "text/plain": [
       "<Figure size 432x288 with 1 Axes>"
      ]
     },
     "metadata": {
      "needs_background": "light"
     },
     "output_type": "display_data"
    }
   ],
   "source": [
    "plt.plot(numericDF['OS Total Spent'], label='OS')\n",
    "plt.xlabel(\"Test\")\n",
    "plt.ylabel(\"Total Spent ($)\")\n",
    "plt.show()"
   ]
  },
  {
   "cell_type": "code",
   "execution_count": 41,
   "id": "decc4198",
   "metadata": {},
   "outputs": [
    {
     "data": {
      "image/png": "[encoded data removed]",
      "text/plain": [
       "<Figure size 432x288 with 1 Axes>"
      ]
     },
     "metadata": {
      "needs_background": "light"
     },
     "output_type": "display_data"
    }
   ],
   "source": [
    "plt.plot(numericDF['CS Total Spent (G)'], label='CS')\n",
    "plt.plot(numericDF['A* Total Spent (G)'], label='A*')\n",
    "plt.plot(numericDF['FW Total Spent (G)'], label='FW')\n",
    "plt.xlabel(\"Test\")\n",
    "plt.ylabel(\"Total Spent ($)\")\n",
    "plt.legend()\n",
    "plt.show()"
   ]
  },
  {
   "cell_type": "code",
   "execution_count": 42,
   "id": "d81a7d34",
   "metadata": {},
   "outputs": [
    {
     "data": {
      "image/png": "[encoded data removed]",
      "text/plain": [
       "<Figure size 432x288 with 1 Axes>"
      ]
     },
     "metadata": {
      "needs_background": "light"
     },
     "output_type": "display_data"
    }
   ],
   "source": [
    "plt.plot(numericDF['CS Total Spent (D)'], label='CS')\n",
    "plt.plot(numericDF['A* Total Spent (D)'], label='A*')\n",
    "plt.plot(numericDF['FW Total Spent (D)'], label='FW')\n",
    "plt.xlabel('Test')\n",
    "plt.ylabel('Total Spent ($)')\n",
    "plt.legend()\n",
    "plt.show()"
   ]
  },
  {
   "cell_type": "code",
   "execution_count": 43,
   "id": "dfaa111e",
   "metadata": {},
   "outputs": [],
   "source": [
    "avgOSTotalSpent = numericDF['OS Total Spent'].mean()"
   ]
  },
  {
   "cell_type": "code",
   "execution_count": 44,
   "id": "405f3fc7",
   "metadata": {},
   "outputs": [],
   "source": [
    "avgCSTotalSpentGreedy = numericDF['CS Total Spent (G)'].mean()\n",
    "avgASTotalSpentGreedy = numericDF['A* Total Spent (G)'].mean()\n",
    "avgFWTotalSpentGreedy = numericDF['FW Total Spent (G)'].mean()"
   ]
  },
  {
   "cell_type": "code",
   "execution_count": 45,
   "id": "a82a978c",
   "metadata": {},
   "outputs": [],
   "source": [
    "avgPercentSavingsOSAndCSGreedy = 100 - ((avgOSTotalSpent / avgCSTotalSpentGreedy) * 100)\n",
    "avgPercentSavingsOSAndASGreedy = 100 - ((avgOSTotalSpent / avgASTotalSpentGreedy) * 100)\n",
    "avgPercentSavingsOSAndFWGreedy = 100 - ((avgOSTotalSpent / avgFWTotalSpentGreedy) * 100)"
   ]
  },
  {
   "cell_type": "code",
   "execution_count": 46,
   "id": "ebf6de39",
   "metadata": {},
   "outputs": [],
   "source": [
    "avgDiffOSAndCSGreedy = avgCSTotalSpentGreedy - avgOSTotalSpent\n",
    "avgDiffOSAndASGreedy = avgASTotalSpentGreedy - avgOSTotalSpent\n",
    "avgDiffOSAndFWGreedy = avgFWTotalSpentGreedy - avgOSTotalSpent"
   ]
  },
  {
   "cell_type": "code",
   "execution_count": 47,
   "id": "6fc45fbb",
   "metadata": {},
   "outputs": [
    {
     "name": "stdout",
     "output_type": "stream",
     "text": [
      "Solution\t avg % > OS \t avg $ > OS\n",
      "CS (G)\t\t 62.2 \t\t 169.84\n",
      "A* (G)\t\t 53.54 \t\t 118.95\n",
      "FW (G)\t\t 51.34 \t\t 108.91\n"
     ]
    }
   ],
   "source": [
    "print('Solution\\t avg % > OS \\t avg $ > OS')\n",
    "print('CS (G)\\t\\t',round(avgPercentSavingsOSAndCSGreedy,2),'\\t\\t',round(avgDiffOSAndCSGreedy,2))\n",
    "print('A* (G)\\t\\t',round(avgPercentSavingsOSAndASGreedy,2),'\\t\\t',round(avgDiffOSAndASGreedy,2))\n",
    "print('FW (G)\\t\\t',round(avgPercentSavingsOSAndFWGreedy,2),'\\t\\t',round(avgDiffOSAndFWGreedy,2))"
   ]
  },
  {
   "cell_type": "code",
   "execution_count": 48,
   "id": "aefb3fc5",
   "metadata": {},
   "outputs": [],
   "source": [
    "avgCSTotalSpentDynamic = numericDF['CS Total Spent (D)'].mean()\n",
    "avgASTotalSpentDynamic = numericDF['A* Total Spent (D)'].mean()\n",
    "avgFWTotalSpentDynamic = numericDF['FW Total Spent (D)'].mean()"
   ]
  },
  {
   "cell_type": "code",
   "execution_count": 49,
   "id": "42025bf5",
   "metadata": {},
   "outputs": [],
   "source": [
    "avgPercentSavingsOSAndCSDynamic = 100 - ((avgOSTotalSpent / avgCSTotalSpentDynamic) * 100)\n",
    "avgPercentSavingsOSAndASDynamic = 100 - ((avgOSTotalSpent / avgASTotalSpentDynamic) * 100)\n",
    "avgPercentSavingsOSAndFWDynamic = 100 - ((avgOSTotalSpent / avgFWTotalSpentDynamic) * 100)"
   ]
  },
  {
   "cell_type": "code",
   "execution_count": 50,
   "id": "3d38ad55",
   "metadata": {},
   "outputs": [],
   "source": [
    "avgDiffOSAndCSDynamic = avgCSTotalSpentDynamic - avgOSTotalSpent\n",
    "avgDiffOSAndASDynamic = avgASTotalSpentDynamic - avgOSTotalSpent\n",
    "avgDiffOSAndFWDynamic = avgFWTotalSpentDynamic - avgOSTotalSpent"
   ]
  },
  {
   "cell_type": "code",
   "execution_count": 51,
   "id": "c51c3e6b",
   "metadata": {},
   "outputs": [
    {
     "name": "stdout",
     "output_type": "stream",
     "text": [
      "Solution\t avg % > FW (D)\t avg $ > FW (D)\n",
      "CS (D)\t\t 47.96 \t\t 95.15\n",
      "A* (D)\t\t 43.67 \t\t 80.02\n",
      "A* (D)\t\t 29.98 \t\t 44.21\n"
     ]
    }
   ],
   "source": [
    "print('Solution\\t avg % > FW (D)\\t avg $ > FW (D)')\n",
    "print('CS (D)\\t\\t',round(avgPercentSavingsOSAndCSDynamic,2),'\\t\\t',round(avgDiffOSAndCSDynamic,2))\n",
    "print('A* (D)\\t\\t',round(avgPercentSavingsOSAndASDynamic,2),'\\t\\t',round(avgDiffOSAndASDynamic,2))\n",
    "print('A* (D)\\t\\t',round(avgPercentSavingsOSAndFWDynamic,2),'\\t\\t',round(avgDiffOSAndFWDynamic,2))"
   ]
  },
  {
   "cell_type": "markdown",
   "id": "bf970476",
   "metadata": {},
   "source": [
    "<h3>Compare the accuracy of the two refueling solutions</h3>"
   ]
  },
  {
   "cell_type": "code",
   "execution_count": 52,
   "id": "2bed5e81",
   "metadata": {},
   "outputs": [],
   "source": [
    "avgTotalSpentGreedy = (avgFWTotalSpentGreedy + avgCSTotalSpentGreedy + avgASTotalSpentGreedy) / 3\n",
    "avgTotalSpentDynamic = (avgFWTotalSpentDynamic + avgCSTotalSpentDynamic + avgASTotalSpentDynamic) / 3"
   ]
  },
  {
   "cell_type": "code",
   "execution_count": 53,
   "id": "b8a88855",
   "metadata": {},
   "outputs": [],
   "source": [
    "avgDiffGreedyAndDynamic = avgTotalSpentGreedy - avgTotalSpentDynamic\n",
    "avgPercentSavingsDynamic = 100 - (avgTotalSpentDynamic / avgTotalSpentGreedy) * 100"
   ]
  },
  {
   "cell_type": "code",
   "execution_count": 54,
   "id": "26fcc1e1",
   "metadata": {},
   "outputs": [
    {
     "name": "stdout",
     "output_type": "stream",
     "text": [
      "Dynamic refueling is, on average, 25.21 % ($ 59.44 ) less expensive than greedy solution.\n"
     ]
    }
   ],
   "source": [
    "print('Dynamic refueling is, on average,',round(avgPercentSavingsDynamic,2),'% ($',round(avgDiffGreedyAndDynamic,2),') less expensive than greedy solution.')"
   ]
  },
  {
   "cell_type": "code",
   "execution_count": 55,
   "id": "b36439e0",
   "metadata": {},
   "outputs": [
    {
     "data": {
      "image/png": "[encoded data removed]",
      "text/plain": [
       "<Figure size 432x288 with 1 Axes>"
      ]
     },
     "metadata": {
      "needs_background": "light"
     },
     "output_type": "display_data"
    }
   ],
   "source": [
    "plt.plot(numericDF['FW Total Spent (D)'], label='D')\n",
    "plt.plot(numericDF['FW Total Spent (G)'], label='G')\n",
    "plt.xlabel('Test')\n",
    "plt.ylabel('Total Spent ($)')\n",
    "plt.legend()\n",
    "plt.show()"
   ]
  },
  {
   "cell_type": "code",
   "execution_count": 56,
   "id": "77484a6f",
   "metadata": {},
   "outputs": [
    {
     "data": {
      "image/png": "[encoded data removed]",
      "text/plain": [
       "<Figure size 432x288 with 1 Axes>"
      ]
     },
     "metadata": {
      "needs_background": "light"
     },
     "output_type": "display_data"
    }
   ],
   "source": [
    "plt.plot(numericDF['CS Total Spent (D)'], label='D')\n",
    "plt.plot(numericDF['CS Total Spent (G)'], label='G')\n",
    "plt.xlabel('Test')\n",
    "plt.ylabel('Total Spent ($)')\n",
    "plt.legend()\n",
    "plt.show()"
   ]
  },
  {
   "cell_type": "code",
   "execution_count": 57,
   "id": "55423727",
   "metadata": {},
   "outputs": [
    {
     "data": {
      "image/png": "[encoded data removed]",
      "text/plain": [
       "<Figure size 432x288 with 1 Axes>"
      ]
     },
     "metadata": {
      "needs_background": "light"
     },
     "output_type": "display_data"
    }
   ],
   "source": [
    "plt.plot(numericDF['A* Total Spent (D)'], label='D')\n",
    "plt.plot(numericDF['A* Total Spent (G)'], label='G')\n",
    "plt.xlabel('Test')\n",
    "plt.ylabel('Total Spent ($)')\n",
    "plt.legend()\n",
    "plt.show()"
   ]
  },
  {
   "cell_type": "markdown",
   "id": "667be280",
   "metadata": {},
   "source": [
    "<h2>Compare efficiency of three solutions for example open route</h2>"
   ]
  },
  {
   "cell_type": "code",
   "execution_count": 58,
   "id": "0a551a49",
   "metadata": {},
   "outputs": [],
   "source": [
    "Stations = generateRandomOpenRouteGraph()\n",
    "routeAdjacencyMatrix = getAdjacencyMatrix(Stations)"
   ]
  },
  {
   "cell_type": "code",
   "execution_count": 59,
   "id": "0bc19d9f",
   "metadata": {},
   "outputs": [
    {
     "name": "stdout",
     "output_type": "stream",
     "text": [
      "CPU times: total: 0 ns\n",
      "Wall time: 0 ns\n"
     ]
    }
   ],
   "source": [
    "%time pathChoosingNextCheapestStation = getPathChoosingNextCheapestStation(Stations, routeAdjacencyMatrix)"
   ]
  },
  {
   "cell_type": "code",
   "execution_count": 60,
   "id": "8a8a09ec",
   "metadata": {},
   "outputs": [
    {
     "name": "stdout",
     "output_type": "stream",
     "text": [
      "CPU times: total: 0 ns\n",
      "Wall time: 0 ns\n"
     ]
    },
    {
     "data": {
      "text/plain": [
       "218.93"
      ]
     },
     "execution_count": 60,
     "metadata": {},
     "output_type": "execute_result"
    }
   ],
   "source": [
    "%time findRefuelingPolicy(Stations, pathChoosingNextCheapestStation)"
   ]
  },
  {
   "cell_type": "code",
   "execution_count": 61,
   "id": "e11dd480",
   "metadata": {},
   "outputs": [
    {
     "name": "stdout",
     "output_type": "stream",
     "text": [
      "CPU times: total: 0 ns\n",
      "Wall time: 6.79 ms\n"
     ]
    },
    {
     "data": {
      "text/plain": [
       "249.64"
      ]
     },
     "execution_count": 61,
     "metadata": {},
     "output_type": "execute_result"
    }
   ],
   "source": [
    "%time findRefuelingPolicyDynamically(Stations, pathChoosingNextCheapestStation)"
   ]
  },
  {
   "cell_type": "code",
   "execution_count": 62,
   "id": "9be6aced",
   "metadata": {},
   "outputs": [
    {
     "name": "stdout",
     "output_type": "stream",
     "text": [
      "CPU times: total: 0 ns\n",
      "Wall time: 6.61 ms\n"
     ]
    }
   ],
   "source": [
    "%time pathUsingAStar = getPathUsingAStar(Stations, routeAdjacencyMatrix)"
   ]
  },
  {
   "cell_type": "code",
   "execution_count": 63,
   "id": "a781ef5a",
   "metadata": {},
   "outputs": [
    {
     "name": "stdout",
     "output_type": "stream",
     "text": [
      "CPU times: total: 0 ns\n",
      "Wall time: 0 ns\n"
     ]
    },
    {
     "data": {
      "text/plain": [
       "158.91"
      ]
     },
     "execution_count": 63,
     "metadata": {},
     "output_type": "execute_result"
    }
   ],
   "source": [
    "%time findRefuelingPolicy(Stations, pathUsingAStar)"
   ]
  },
  {
   "cell_type": "code",
   "execution_count": 64,
   "id": "fe79fe6d",
   "metadata": {},
   "outputs": [
    {
     "name": "stdout",
     "output_type": "stream",
     "text": [
      "CPU times: total: 15.6 ms\n",
      "Wall time: 45.5 ms\n"
     ]
    },
    {
     "data": {
      "text/plain": [
       "199.1"
      ]
     },
     "execution_count": 64,
     "metadata": {},
     "output_type": "execute_result"
    }
   ],
   "source": [
    "%time findRefuelingPolicyDynamically(Stations, pathUsingAStar)"
   ]
  },
  {
   "cell_type": "code",
   "execution_count": 65,
   "id": "e8ce4a72",
   "metadata": {},
   "outputs": [
    {
     "name": "stdout",
     "output_type": "stream",
     "text": [
      "CPU times: total: 0 ns\n",
      "Wall time: 8.57 ms\n"
     ]
    }
   ],
   "source": [
    "%time pathUsingFloydWarshall = getPathUsingFloydWarshall(routeAdjacencyMatrix)"
   ]
  },
  {
   "cell_type": "code",
   "execution_count": 66,
   "id": "5fd26216",
   "metadata": {},
   "outputs": [
    {
     "name": "stdout",
     "output_type": "stream",
     "text": [
      "CPU times: total: 0 ns\n",
      "Wall time: 4.59 ms\n"
     ]
    },
    {
     "data": {
      "text/plain": [
       "224.9"
      ]
     },
     "execution_count": 66,
     "metadata": {},
     "output_type": "execute_result"
    }
   ],
   "source": [
    "%time findRefuelingPolicy(Stations, pathUsingFloydWarshall)"
   ]
  },
  {
   "cell_type": "code",
   "execution_count": 67,
   "id": "cc3ca9b7",
   "metadata": {},
   "outputs": [
    {
     "name": "stdout",
     "output_type": "stream",
     "text": [
      "CPU times: total: 31.2 ms\n",
      "Wall time: 204 ms\n"
     ]
    },
    {
     "data": {
      "text/plain": [
       "156.27"
      ]
     },
     "execution_count": 67,
     "metadata": {},
     "output_type": "execute_result"
    }
   ],
   "source": [
    "%time findRefuelingPolicyDynamically(Stations, pathUsingFloydWarshall)"
   ]
  },
  {
   "cell_type": "code",
   "execution_count": 68,
   "id": "6a21f56b",
   "metadata": {},
   "outputs": [
    {
     "name": "stdout",
     "output_type": "stream",
     "text": [
      "CPU times: total: 15.6 ms\n",
      "Wall time: 3.43 ms\n"
     ]
    },
    {
     "data": {
      "text/plain": [
       "75.96"
      ]
     },
     "execution_count": 68,
     "metadata": {},
     "output_type": "execute_result"
    }
   ],
   "source": [
    "pathUsingOptimalSolution = [start]\n",
    "%time findOptimalRefuelingPolicy(Stations, routeAdjacencyMatrix, pathUsingOptimalSolution)"
   ]
  }
 ],
 "metadata": {
  "kernelspec": {
   "display_name": "Python 3 (ipykernel)",
   "language": "python",
   "name": "python3"
  },
  "language_info": {
   "codemirror_mode": {
    "name": "ipython",
    "version": 3
   },
   "file_extension": ".py",
   "mimetype": "text/x-python",
   "name": "python",
   "nbconvert_exporter": "python",
   "pygments_lexer": "ipython3",
   "version": "3.9.12"
  }
 },
 "nbformat": 4,
 "nbformat_minor": 5
}
